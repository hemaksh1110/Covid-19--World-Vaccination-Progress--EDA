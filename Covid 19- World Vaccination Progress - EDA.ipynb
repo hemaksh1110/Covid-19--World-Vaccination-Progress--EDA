{
 "cells": [
  {
   "cell_type": "markdown",
   "metadata": {},
   "source": [
    "# Covid 19- World Vaccination Progress - EDA\n",
    "\n",
    "This project is made by me, Hemaksh Swara. For this project, I have taken a dataset from kaggle. The dataset includes records of the covid-19 vaccinations across the world and on this dataset I have performed data analysis using pandas library. Along with this, I have use of matplotlib, seaborn, plotly-express libraries for visualization using various graphs.\n",
    "\n",
    "Note- Data only till 2021-09-30\n"
   ]
  },
  {
   "cell_type": "markdown",
   "metadata": {},
   "source": [
    "## Downloading the Dataset"
   ]
  },
  {
   "cell_type": "code",
   "execution_count": 1,
   "metadata": {},
   "outputs": [
    {
     "name": "stderr",
     "output_type": "stream",
     "text": [
      "WARNING: Ignoring invalid distribution -umpy (c:\\users\\91981\\anaconda3\\lib\\site-packages)\n",
      "WARNING: Ignoring invalid distribution -umpy (c:\\users\\91981\\anaconda3\\lib\\site-packages)\n",
      "WARNING: Ignoring invalid distribution -umpy (c:\\users\\91981\\anaconda3\\lib\\site-packages)\n",
      "WARNING: Ignoring invalid distribution -umpy (c:\\users\\91981\\anaconda3\\lib\\site-packages)\n",
      "WARNING: Ignoring invalid distribution -umpy (c:\\users\\91981\\anaconda3\\lib\\site-packages)\n"
     ]
    }
   ],
   "source": [
    "!pip install opendatasets --upgrade --quiet"
   ]
  },
  {
   "cell_type": "markdown",
   "metadata": {},
   "source": [
    "Let's begin by downloading the data, and listing the files within the dataset."
   ]
  },
  {
   "cell_type": "code",
   "execution_count": 2,
   "metadata": {},
   "outputs": [],
   "source": [
    "dataset_url = 'https://www.kaggle.com/gpreda/covid-world-vaccination-progress?select=country_vaccinations_by_manufacturer.csv' "
   ]
  },
  {
   "cell_type": "code",
   "execution_count": 3,
   "metadata": {},
   "outputs": [
    {
     "name": "stdout",
     "output_type": "stream",
     "text": [
      "Skipping, found downloaded files in \".\\covid-world-vaccination-progress\" (use force=True to force download)\n"
     ]
    }
   ],
   "source": [
    "import opendatasets as od\n",
    "od.download(dataset_url)"
   ]
  },
  {
   "cell_type": "markdown",
   "metadata": {},
   "source": [
    "The dataset has been downloaded and extracted."
   ]
  },
  {
   "cell_type": "code",
   "execution_count": 4,
   "metadata": {},
   "outputs": [],
   "source": [
    "data_dir = './covid-world-vaccination-progress'"
   ]
  },
  {
   "cell_type": "code",
   "execution_count": 5,
   "metadata": {},
   "outputs": [
    {
     "data": {
      "text/plain": [
       "['country_vaccinations.csv', 'country_vaccinations_by_manufacturer.csv']"
      ]
     },
     "execution_count": 5,
     "metadata": {},
     "output_type": "execute_result"
    }
   ],
   "source": [
    "import os\n",
    "os.listdir(data_dir)"
   ]
  },
  {
   "cell_type": "code",
   "execution_count": 6,
   "metadata": {},
   "outputs": [],
   "source": [
    "project_name = \"covid-vaccination-progress-eda\" "
   ]
  },
  {
   "cell_type": "markdown",
   "metadata": {},
   "source": [
    "## Data Preparation and Cleaning"
   ]
  },
  {
   "cell_type": "markdown",
   "metadata": {},
   "source": [
    "> - Load the dataset into a data frame using Pandas\n",
    "> - Explore the number of rows & columns, ranges of values etc.\n",
    "> - Handle missing, incorrect and invalid data"
   ]
  },
  {
   "cell_type": "code",
   "execution_count": 7,
   "metadata": {},
   "outputs": [],
   "source": [
    "import pandas as pd\n",
    "import numpy as np"
   ]
  },
  {
   "cell_type": "code",
   "execution_count": 8,
   "metadata": {},
   "outputs": [],
   "source": [
    "raw_data=pd.read_csv(data_dir + \"/country_vaccinations.csv\")"
   ]
  },
  {
   "cell_type": "code",
   "execution_count": 9,
   "metadata": {},
   "outputs": [
    {
     "data": {
      "text/html": [
       "<div>\n",
       "<style scoped>\n",
       "    .dataframe tbody tr th:only-of-type {\n",
       "        vertical-align: middle;\n",
       "    }\n",
       "\n",
       "    .dataframe tbody tr th {\n",
       "        vertical-align: top;\n",
       "    }\n",
       "\n",
       "    .dataframe thead th {\n",
       "        text-align: right;\n",
       "    }\n",
       "</style>\n",
       "<table border=\"1\" class=\"dataframe\">\n",
       "  <thead>\n",
       "    <tr style=\"text-align: right;\">\n",
       "      <th></th>\n",
       "      <th>country</th>\n",
       "      <th>iso_code</th>\n",
       "      <th>date</th>\n",
       "      <th>total_vaccinations</th>\n",
       "      <th>people_vaccinated</th>\n",
       "      <th>people_fully_vaccinated</th>\n",
       "      <th>daily_vaccinations_raw</th>\n",
       "      <th>daily_vaccinations</th>\n",
       "      <th>total_vaccinations_per_hundred</th>\n",
       "      <th>people_vaccinated_per_hundred</th>\n",
       "      <th>people_fully_vaccinated_per_hundred</th>\n",
       "      <th>daily_vaccinations_per_million</th>\n",
       "      <th>vaccines</th>\n",
       "      <th>source_name</th>\n",
       "      <th>source_website</th>\n",
       "    </tr>\n",
       "  </thead>\n",
       "  <tbody>\n",
       "    <tr>\n",
       "      <th>0</th>\n",
       "      <td>Afghanistan</td>\n",
       "      <td>AFG</td>\n",
       "      <td>2021-02-22</td>\n",
       "      <td>0.0</td>\n",
       "      <td>0.0</td>\n",
       "      <td>NaN</td>\n",
       "      <td>NaN</td>\n",
       "      <td>NaN</td>\n",
       "      <td>0.00</td>\n",
       "      <td>0.00</td>\n",
       "      <td>NaN</td>\n",
       "      <td>NaN</td>\n",
       "      <td>Johnson&amp;Johnson, Oxford/AstraZeneca, Pfizer/Bi...</td>\n",
       "      <td>World Health Organization</td>\n",
       "      <td>https://app.powerbi.com/view?r=eyJrIjoiYTkyM2V...</td>\n",
       "    </tr>\n",
       "    <tr>\n",
       "      <th>1</th>\n",
       "      <td>Afghanistan</td>\n",
       "      <td>AFG</td>\n",
       "      <td>2021-02-23</td>\n",
       "      <td>NaN</td>\n",
       "      <td>NaN</td>\n",
       "      <td>NaN</td>\n",
       "      <td>NaN</td>\n",
       "      <td>1367.0</td>\n",
       "      <td>NaN</td>\n",
       "      <td>NaN</td>\n",
       "      <td>NaN</td>\n",
       "      <td>34.0</td>\n",
       "      <td>Johnson&amp;Johnson, Oxford/AstraZeneca, Pfizer/Bi...</td>\n",
       "      <td>World Health Organization</td>\n",
       "      <td>https://app.powerbi.com/view?r=eyJrIjoiYTkyM2V...</td>\n",
       "    </tr>\n",
       "    <tr>\n",
       "      <th>2</th>\n",
       "      <td>Afghanistan</td>\n",
       "      <td>AFG</td>\n",
       "      <td>2021-02-24</td>\n",
       "      <td>NaN</td>\n",
       "      <td>NaN</td>\n",
       "      <td>NaN</td>\n",
       "      <td>NaN</td>\n",
       "      <td>1367.0</td>\n",
       "      <td>NaN</td>\n",
       "      <td>NaN</td>\n",
       "      <td>NaN</td>\n",
       "      <td>34.0</td>\n",
       "      <td>Johnson&amp;Johnson, Oxford/AstraZeneca, Pfizer/Bi...</td>\n",
       "      <td>World Health Organization</td>\n",
       "      <td>https://app.powerbi.com/view?r=eyJrIjoiYTkyM2V...</td>\n",
       "    </tr>\n",
       "    <tr>\n",
       "      <th>3</th>\n",
       "      <td>Afghanistan</td>\n",
       "      <td>AFG</td>\n",
       "      <td>2021-02-25</td>\n",
       "      <td>NaN</td>\n",
       "      <td>NaN</td>\n",
       "      <td>NaN</td>\n",
       "      <td>NaN</td>\n",
       "      <td>1367.0</td>\n",
       "      <td>NaN</td>\n",
       "      <td>NaN</td>\n",
       "      <td>NaN</td>\n",
       "      <td>34.0</td>\n",
       "      <td>Johnson&amp;Johnson, Oxford/AstraZeneca, Pfizer/Bi...</td>\n",
       "      <td>World Health Organization</td>\n",
       "      <td>https://app.powerbi.com/view?r=eyJrIjoiYTkyM2V...</td>\n",
       "    </tr>\n",
       "    <tr>\n",
       "      <th>4</th>\n",
       "      <td>Afghanistan</td>\n",
       "      <td>AFG</td>\n",
       "      <td>2021-02-26</td>\n",
       "      <td>NaN</td>\n",
       "      <td>NaN</td>\n",
       "      <td>NaN</td>\n",
       "      <td>NaN</td>\n",
       "      <td>1367.0</td>\n",
       "      <td>NaN</td>\n",
       "      <td>NaN</td>\n",
       "      <td>NaN</td>\n",
       "      <td>34.0</td>\n",
       "      <td>Johnson&amp;Johnson, Oxford/AstraZeneca, Pfizer/Bi...</td>\n",
       "      <td>World Health Organization</td>\n",
       "      <td>https://app.powerbi.com/view?r=eyJrIjoiYTkyM2V...</td>\n",
       "    </tr>\n",
       "    <tr>\n",
       "      <th>...</th>\n",
       "      <td>...</td>\n",
       "      <td>...</td>\n",
       "      <td>...</td>\n",
       "      <td>...</td>\n",
       "      <td>...</td>\n",
       "      <td>...</td>\n",
       "      <td>...</td>\n",
       "      <td>...</td>\n",
       "      <td>...</td>\n",
       "      <td>...</td>\n",
       "      <td>...</td>\n",
       "      <td>...</td>\n",
       "      <td>...</td>\n",
       "      <td>...</td>\n",
       "      <td>...</td>\n",
       "    </tr>\n",
       "    <tr>\n",
       "      <th>48108</th>\n",
       "      <td>Zimbabwe</td>\n",
       "      <td>ZWE</td>\n",
       "      <td>2021-09-26</td>\n",
       "      <td>5234875.0</td>\n",
       "      <td>3036623.0</td>\n",
       "      <td>2198252.0</td>\n",
       "      <td>16203.0</td>\n",
       "      <td>31405.0</td>\n",
       "      <td>34.69</td>\n",
       "      <td>20.12</td>\n",
       "      <td>14.57</td>\n",
       "      <td>2081.0</td>\n",
       "      <td>Oxford/AstraZeneca, Sinopharm/Beijing, Sinovac...</td>\n",
       "      <td>Ministry of Health</td>\n",
       "      <td>https://www.arcgis.com/home/webmap/viewer.html...</td>\n",
       "    </tr>\n",
       "    <tr>\n",
       "      <th>48109</th>\n",
       "      <td>Zimbabwe</td>\n",
       "      <td>ZWE</td>\n",
       "      <td>2021-09-27</td>\n",
       "      <td>5263782.0</td>\n",
       "      <td>3050981.0</td>\n",
       "      <td>2212801.0</td>\n",
       "      <td>28907.0</td>\n",
       "      <td>31282.0</td>\n",
       "      <td>34.88</td>\n",
       "      <td>20.22</td>\n",
       "      <td>14.66</td>\n",
       "      <td>2073.0</td>\n",
       "      <td>Oxford/AstraZeneca, Sinopharm/Beijing, Sinovac...</td>\n",
       "      <td>Ministry of Health</td>\n",
       "      <td>https://www.arcgis.com/home/webmap/viewer.html...</td>\n",
       "    </tr>\n",
       "    <tr>\n",
       "      <th>48110</th>\n",
       "      <td>Zimbabwe</td>\n",
       "      <td>ZWE</td>\n",
       "      <td>2021-09-28</td>\n",
       "      <td>5290317.0</td>\n",
       "      <td>3060086.0</td>\n",
       "      <td>2230231.0</td>\n",
       "      <td>26535.0</td>\n",
       "      <td>29469.0</td>\n",
       "      <td>35.05</td>\n",
       "      <td>20.28</td>\n",
       "      <td>14.78</td>\n",
       "      <td>1953.0</td>\n",
       "      <td>Oxford/AstraZeneca, Sinopharm/Beijing, Sinovac...</td>\n",
       "      <td>Ministry of Health</td>\n",
       "      <td>https://www.arcgis.com/home/webmap/viewer.html...</td>\n",
       "    </tr>\n",
       "    <tr>\n",
       "      <th>48111</th>\n",
       "      <td>Zimbabwe</td>\n",
       "      <td>ZWE</td>\n",
       "      <td>2021-09-29</td>\n",
       "      <td>5320565.0</td>\n",
       "      <td>3071643.0</td>\n",
       "      <td>2248922.0</td>\n",
       "      <td>30248.0</td>\n",
       "      <td>28149.0</td>\n",
       "      <td>35.25</td>\n",
       "      <td>20.35</td>\n",
       "      <td>14.90</td>\n",
       "      <td>1865.0</td>\n",
       "      <td>Oxford/AstraZeneca, Sinopharm/Beijing, Sinovac...</td>\n",
       "      <td>Ministry of Health</td>\n",
       "      <td>https://www.arcgis.com/home/webmap/viewer.html...</td>\n",
       "    </tr>\n",
       "    <tr>\n",
       "      <th>48112</th>\n",
       "      <td>Zimbabwe</td>\n",
       "      <td>ZWE</td>\n",
       "      <td>2021-09-30</td>\n",
       "      <td>5355820.0</td>\n",
       "      <td>3083764.0</td>\n",
       "      <td>2272056.0</td>\n",
       "      <td>35255.0</td>\n",
       "      <td>27045.0</td>\n",
       "      <td>35.49</td>\n",
       "      <td>20.43</td>\n",
       "      <td>15.05</td>\n",
       "      <td>1792.0</td>\n",
       "      <td>Oxford/AstraZeneca, Sinopharm/Beijing, Sinovac...</td>\n",
       "      <td>Ministry of Health</td>\n",
       "      <td>https://www.arcgis.com/home/webmap/viewer.html...</td>\n",
       "    </tr>\n",
       "  </tbody>\n",
       "</table>\n",
       "<p>48113 rows × 15 columns</p>\n",
       "</div>"
      ],
      "text/plain": [
       "           country iso_code        date  total_vaccinations  \\\n",
       "0      Afghanistan      AFG  2021-02-22                 0.0   \n",
       "1      Afghanistan      AFG  2021-02-23                 NaN   \n",
       "2      Afghanistan      AFG  2021-02-24                 NaN   \n",
       "3      Afghanistan      AFG  2021-02-25                 NaN   \n",
       "4      Afghanistan      AFG  2021-02-26                 NaN   \n",
       "...            ...      ...         ...                 ...   \n",
       "48108     Zimbabwe      ZWE  2021-09-26           5234875.0   \n",
       "48109     Zimbabwe      ZWE  2021-09-27           5263782.0   \n",
       "48110     Zimbabwe      ZWE  2021-09-28           5290317.0   \n",
       "48111     Zimbabwe      ZWE  2021-09-29           5320565.0   \n",
       "48112     Zimbabwe      ZWE  2021-09-30           5355820.0   \n",
       "\n",
       "       people_vaccinated  people_fully_vaccinated  daily_vaccinations_raw  \\\n",
       "0                    0.0                      NaN                     NaN   \n",
       "1                    NaN                      NaN                     NaN   \n",
       "2                    NaN                      NaN                     NaN   \n",
       "3                    NaN                      NaN                     NaN   \n",
       "4                    NaN                      NaN                     NaN   \n",
       "...                  ...                      ...                     ...   \n",
       "48108          3036623.0                2198252.0                 16203.0   \n",
       "48109          3050981.0                2212801.0                 28907.0   \n",
       "48110          3060086.0                2230231.0                 26535.0   \n",
       "48111          3071643.0                2248922.0                 30248.0   \n",
       "48112          3083764.0                2272056.0                 35255.0   \n",
       "\n",
       "       daily_vaccinations  total_vaccinations_per_hundred  \\\n",
       "0                     NaN                            0.00   \n",
       "1                  1367.0                             NaN   \n",
       "2                  1367.0                             NaN   \n",
       "3                  1367.0                             NaN   \n",
       "4                  1367.0                             NaN   \n",
       "...                   ...                             ...   \n",
       "48108             31405.0                           34.69   \n",
       "48109             31282.0                           34.88   \n",
       "48110             29469.0                           35.05   \n",
       "48111             28149.0                           35.25   \n",
       "48112             27045.0                           35.49   \n",
       "\n",
       "       people_vaccinated_per_hundred  people_fully_vaccinated_per_hundred  \\\n",
       "0                               0.00                                  NaN   \n",
       "1                                NaN                                  NaN   \n",
       "2                                NaN                                  NaN   \n",
       "3                                NaN                                  NaN   \n",
       "4                                NaN                                  NaN   \n",
       "...                              ...                                  ...   \n",
       "48108                          20.12                                14.57   \n",
       "48109                          20.22                                14.66   \n",
       "48110                          20.28                                14.78   \n",
       "48111                          20.35                                14.90   \n",
       "48112                          20.43                                15.05   \n",
       "\n",
       "       daily_vaccinations_per_million  \\\n",
       "0                                 NaN   \n",
       "1                                34.0   \n",
       "2                                34.0   \n",
       "3                                34.0   \n",
       "4                                34.0   \n",
       "...                               ...   \n",
       "48108                          2081.0   \n",
       "48109                          2073.0   \n",
       "48110                          1953.0   \n",
       "48111                          1865.0   \n",
       "48112                          1792.0   \n",
       "\n",
       "                                                vaccines  \\\n",
       "0      Johnson&Johnson, Oxford/AstraZeneca, Pfizer/Bi...   \n",
       "1      Johnson&Johnson, Oxford/AstraZeneca, Pfizer/Bi...   \n",
       "2      Johnson&Johnson, Oxford/AstraZeneca, Pfizer/Bi...   \n",
       "3      Johnson&Johnson, Oxford/AstraZeneca, Pfizer/Bi...   \n",
       "4      Johnson&Johnson, Oxford/AstraZeneca, Pfizer/Bi...   \n",
       "...                                                  ...   \n",
       "48108  Oxford/AstraZeneca, Sinopharm/Beijing, Sinovac...   \n",
       "48109  Oxford/AstraZeneca, Sinopharm/Beijing, Sinovac...   \n",
       "48110  Oxford/AstraZeneca, Sinopharm/Beijing, Sinovac...   \n",
       "48111  Oxford/AstraZeneca, Sinopharm/Beijing, Sinovac...   \n",
       "48112  Oxford/AstraZeneca, Sinopharm/Beijing, Sinovac...   \n",
       "\n",
       "                     source_name  \\\n",
       "0      World Health Organization   \n",
       "1      World Health Organization   \n",
       "2      World Health Organization   \n",
       "3      World Health Organization   \n",
       "4      World Health Organization   \n",
       "...                          ...   \n",
       "48108         Ministry of Health   \n",
       "48109         Ministry of Health   \n",
       "48110         Ministry of Health   \n",
       "48111         Ministry of Health   \n",
       "48112         Ministry of Health   \n",
       "\n",
       "                                          source_website  \n",
       "0      https://app.powerbi.com/view?r=eyJrIjoiYTkyM2V...  \n",
       "1      https://app.powerbi.com/view?r=eyJrIjoiYTkyM2V...  \n",
       "2      https://app.powerbi.com/view?r=eyJrIjoiYTkyM2V...  \n",
       "3      https://app.powerbi.com/view?r=eyJrIjoiYTkyM2V...  \n",
       "4      https://app.powerbi.com/view?r=eyJrIjoiYTkyM2V...  \n",
       "...                                                  ...  \n",
       "48108  https://www.arcgis.com/home/webmap/viewer.html...  \n",
       "48109  https://www.arcgis.com/home/webmap/viewer.html...  \n",
       "48110  https://www.arcgis.com/home/webmap/viewer.html...  \n",
       "48111  https://www.arcgis.com/home/webmap/viewer.html...  \n",
       "48112  https://www.arcgis.com/home/webmap/viewer.html...  \n",
       "\n",
       "[48113 rows x 15 columns]"
      ]
     },
     "execution_count": 9,
     "metadata": {},
     "output_type": "execute_result"
    }
   ],
   "source": [
    "raw_data"
   ]
  },
  {
   "cell_type": "code",
   "execution_count": 10,
   "metadata": {},
   "outputs": [
    {
     "name": "stdout",
     "output_type": "stream",
     "text": [
      "<class 'pandas.core.frame.DataFrame'>\n",
      "RangeIndex: 48113 entries, 0 to 48112\n",
      "Data columns (total 15 columns):\n",
      " #   Column                               Non-Null Count  Dtype  \n",
      "---  ------                               --------------  -----  \n",
      " 0   country                              48113 non-null  object \n",
      " 1   iso_code                             48113 non-null  object \n",
      " 2   date                                 48113 non-null  object \n",
      " 3   total_vaccinations                   26332 non-null  float64\n",
      " 4   people_vaccinated                    24993 non-null  float64\n",
      " 5   people_fully_vaccinated              22062 non-null  float64\n",
      " 6   daily_vaccinations_raw               21628 non-null  float64\n",
      " 7   daily_vaccinations                   47871 non-null  float64\n",
      " 8   total_vaccinations_per_hundred       26332 non-null  float64\n",
      " 9   people_vaccinated_per_hundred        24993 non-null  float64\n",
      " 10  people_fully_vaccinated_per_hundred  22062 non-null  float64\n",
      " 11  daily_vaccinations_per_million       47871 non-null  float64\n",
      " 12  vaccines                             48113 non-null  object \n",
      " 13  source_name                          48113 non-null  object \n",
      " 14  source_website                       48113 non-null  object \n",
      "dtypes: float64(9), object(6)\n",
      "memory usage: 5.5+ MB\n"
     ]
    }
   ],
   "source": [
    "raw_data.info()"
   ]
  },
  {
   "cell_type": "code",
   "execution_count": 11,
   "metadata": {},
   "outputs": [
    {
     "data": {
      "text/html": [
       "<div>\n",
       "<style scoped>\n",
       "    .dataframe tbody tr th:only-of-type {\n",
       "        vertical-align: middle;\n",
       "    }\n",
       "\n",
       "    .dataframe tbody tr th {\n",
       "        vertical-align: top;\n",
       "    }\n",
       "\n",
       "    .dataframe thead th {\n",
       "        text-align: right;\n",
       "    }\n",
       "</style>\n",
       "<table border=\"1\" class=\"dataframe\">\n",
       "  <thead>\n",
       "    <tr style=\"text-align: right;\">\n",
       "      <th></th>\n",
       "      <th>total_vaccinations</th>\n",
       "      <th>people_vaccinated</th>\n",
       "      <th>people_fully_vaccinated</th>\n",
       "      <th>daily_vaccinations_raw</th>\n",
       "      <th>daily_vaccinations</th>\n",
       "      <th>total_vaccinations_per_hundred</th>\n",
       "      <th>people_vaccinated_per_hundred</th>\n",
       "      <th>people_fully_vaccinated_per_hundred</th>\n",
       "      <th>daily_vaccinations_per_million</th>\n",
       "    </tr>\n",
       "  </thead>\n",
       "  <tbody>\n",
       "    <tr>\n",
       "      <th>count</th>\n",
       "      <td>2.633200e+04</td>\n",
       "      <td>2.499300e+04</td>\n",
       "      <td>2.206200e+04</td>\n",
       "      <td>2.162800e+04</td>\n",
       "      <td>4.787100e+04</td>\n",
       "      <td>26332.000000</td>\n",
       "      <td>24993.000000</td>\n",
       "      <td>22062.000000</td>\n",
       "      <td>47871.000000</td>\n",
       "    </tr>\n",
       "    <tr>\n",
       "      <th>mean</th>\n",
       "      <td>2.172153e+07</td>\n",
       "      <td>9.234341e+06</td>\n",
       "      <td>5.998278e+06</td>\n",
       "      <td>2.587079e+05</td>\n",
       "      <td>1.310687e+05</td>\n",
       "      <td>45.816391</td>\n",
       "      <td>27.632116</td>\n",
       "      <td>20.782706</td>\n",
       "      <td>3535.927618</td>\n",
       "    </tr>\n",
       "    <tr>\n",
       "      <th>std</th>\n",
       "      <td>1.236269e+08</td>\n",
       "      <td>3.628087e+07</td>\n",
       "      <td>2.370766e+07</td>\n",
       "      <td>1.300218e+06</td>\n",
       "      <td>8.664519e+05</td>\n",
       "      <td>46.317175</td>\n",
       "      <td>24.940444</td>\n",
       "      <td>22.116300</td>\n",
       "      <td>4386.133709</td>\n",
       "    </tr>\n",
       "    <tr>\n",
       "      <th>min</th>\n",
       "      <td>0.000000e+00</td>\n",
       "      <td>0.000000e+00</td>\n",
       "      <td>1.000000e+00</td>\n",
       "      <td>0.000000e+00</td>\n",
       "      <td>0.000000e+00</td>\n",
       "      <td>0.000000</td>\n",
       "      <td>0.000000</td>\n",
       "      <td>0.000000</td>\n",
       "      <td>0.000000</td>\n",
       "    </tr>\n",
       "    <tr>\n",
       "      <th>25%</th>\n",
       "      <td>2.257012e+05</td>\n",
       "      <td>1.760370e+05</td>\n",
       "      <td>8.711375e+04</td>\n",
       "      <td>5.042000e+03</td>\n",
       "      <td>8.950000e+02</td>\n",
       "      <td>5.680000</td>\n",
       "      <td>4.400000</td>\n",
       "      <td>2.520000</td>\n",
       "      <td>529.000000</td>\n",
       "    </tr>\n",
       "    <tr>\n",
       "      <th>50%</th>\n",
       "      <td>1.590494e+06</td>\n",
       "      <td>1.049514e+06</td>\n",
       "      <td>6.869110e+05</td>\n",
       "      <td>2.488400e+04</td>\n",
       "      <td>6.881000e+03</td>\n",
       "      <td>28.650000</td>\n",
       "      <td>20.120000</td>\n",
       "      <td>11.545000</td>\n",
       "      <td>2221.000000</td>\n",
       "    </tr>\n",
       "    <tr>\n",
       "      <th>75%</th>\n",
       "      <td>8.314824e+06</td>\n",
       "      <td>4.956455e+06</td>\n",
       "      <td>3.587027e+06</td>\n",
       "      <td>1.140095e+05</td>\n",
       "      <td>4.192500e+04</td>\n",
       "      <td>77.765000</td>\n",
       "      <td>48.400000</td>\n",
       "      <td>34.890000</td>\n",
       "      <td>5251.000000</td>\n",
       "    </tr>\n",
       "    <tr>\n",
       "      <th>max</th>\n",
       "      <td>2.211452e+09</td>\n",
       "      <td>1.100842e+09</td>\n",
       "      <td>1.047872e+09</td>\n",
       "      <td>2.474100e+07</td>\n",
       "      <td>2.242429e+07</td>\n",
       "      <td>236.050000</td>\n",
       "      <td>118.540000</td>\n",
       "      <td>117.510000</td>\n",
       "      <td>117497.000000</td>\n",
       "    </tr>\n",
       "  </tbody>\n",
       "</table>\n",
       "</div>"
      ],
      "text/plain": [
       "       total_vaccinations  people_vaccinated  people_fully_vaccinated  \\\n",
       "count        2.633200e+04       2.499300e+04             2.206200e+04   \n",
       "mean         2.172153e+07       9.234341e+06             5.998278e+06   \n",
       "std          1.236269e+08       3.628087e+07             2.370766e+07   \n",
       "min          0.000000e+00       0.000000e+00             1.000000e+00   \n",
       "25%          2.257012e+05       1.760370e+05             8.711375e+04   \n",
       "50%          1.590494e+06       1.049514e+06             6.869110e+05   \n",
       "75%          8.314824e+06       4.956455e+06             3.587027e+06   \n",
       "max          2.211452e+09       1.100842e+09             1.047872e+09   \n",
       "\n",
       "       daily_vaccinations_raw  daily_vaccinations  \\\n",
       "count            2.162800e+04        4.787100e+04   \n",
       "mean             2.587079e+05        1.310687e+05   \n",
       "std              1.300218e+06        8.664519e+05   \n",
       "min              0.000000e+00        0.000000e+00   \n",
       "25%              5.042000e+03        8.950000e+02   \n",
       "50%              2.488400e+04        6.881000e+03   \n",
       "75%              1.140095e+05        4.192500e+04   \n",
       "max              2.474100e+07        2.242429e+07   \n",
       "\n",
       "       total_vaccinations_per_hundred  people_vaccinated_per_hundred  \\\n",
       "count                    26332.000000                   24993.000000   \n",
       "mean                        45.816391                      27.632116   \n",
       "std                         46.317175                      24.940444   \n",
       "min                          0.000000                       0.000000   \n",
       "25%                          5.680000                       4.400000   \n",
       "50%                         28.650000                      20.120000   \n",
       "75%                         77.765000                      48.400000   \n",
       "max                        236.050000                     118.540000   \n",
       "\n",
       "       people_fully_vaccinated_per_hundred  daily_vaccinations_per_million  \n",
       "count                         22062.000000                    47871.000000  \n",
       "mean                             20.782706                     3535.927618  \n",
       "std                              22.116300                     4386.133709  \n",
       "min                               0.000000                        0.000000  \n",
       "25%                               2.520000                      529.000000  \n",
       "50%                              11.545000                     2221.000000  \n",
       "75%                              34.890000                     5251.000000  \n",
       "max                             117.510000                   117497.000000  "
      ]
     },
     "execution_count": 11,
     "metadata": {},
     "output_type": "execute_result"
    }
   ],
   "source": [
    "raw_data.describe()"
   ]
  },
  {
   "cell_type": "code",
   "execution_count": 12,
   "metadata": {},
   "outputs": [],
   "source": [
    "raw_data2=pd.read_csv(data_dir + '/country_vaccinations_by_manufacturer.csv')"
   ]
  },
  {
   "cell_type": "code",
   "execution_count": 13,
   "metadata": {
    "scrolled": false
   },
   "outputs": [
    {
     "data": {
      "text/html": [
       "<div>\n",
       "<style scoped>\n",
       "    .dataframe tbody tr th:only-of-type {\n",
       "        vertical-align: middle;\n",
       "    }\n",
       "\n",
       "    .dataframe tbody tr th {\n",
       "        vertical-align: top;\n",
       "    }\n",
       "\n",
       "    .dataframe thead th {\n",
       "        text-align: right;\n",
       "    }\n",
       "</style>\n",
       "<table border=\"1\" class=\"dataframe\">\n",
       "  <thead>\n",
       "    <tr style=\"text-align: right;\">\n",
       "      <th></th>\n",
       "      <th>location</th>\n",
       "      <th>date</th>\n",
       "      <th>vaccine</th>\n",
       "      <th>total_vaccinations</th>\n",
       "    </tr>\n",
       "  </thead>\n",
       "  <tbody>\n",
       "    <tr>\n",
       "      <th>0</th>\n",
       "      <td>Austria</td>\n",
       "      <td>2021-01-08</td>\n",
       "      <td>Johnson&amp;Johnson</td>\n",
       "      <td>0</td>\n",
       "    </tr>\n",
       "    <tr>\n",
       "      <th>1</th>\n",
       "      <td>Austria</td>\n",
       "      <td>2021-01-08</td>\n",
       "      <td>Moderna</td>\n",
       "      <td>0</td>\n",
       "    </tr>\n",
       "    <tr>\n",
       "      <th>2</th>\n",
       "      <td>Austria</td>\n",
       "      <td>2021-01-08</td>\n",
       "      <td>Oxford/AstraZeneca</td>\n",
       "      <td>0</td>\n",
       "    </tr>\n",
       "    <tr>\n",
       "      <th>3</th>\n",
       "      <td>Austria</td>\n",
       "      <td>2021-01-08</td>\n",
       "      <td>Pfizer/BioNTech</td>\n",
       "      <td>31099</td>\n",
       "    </tr>\n",
       "    <tr>\n",
       "      <th>4</th>\n",
       "      <td>Austria</td>\n",
       "      <td>2021-01-15</td>\n",
       "      <td>Johnson&amp;Johnson</td>\n",
       "      <td>0</td>\n",
       "    </tr>\n",
       "    <tr>\n",
       "      <th>...</th>\n",
       "      <td>...</td>\n",
       "      <td>...</td>\n",
       "      <td>...</td>\n",
       "      <td>...</td>\n",
       "    </tr>\n",
       "    <tr>\n",
       "      <th>16826</th>\n",
       "      <td>European Union</td>\n",
       "      <td>2021-09-30</td>\n",
       "      <td>Moderna</td>\n",
       "      <td>56980030</td>\n",
       "    </tr>\n",
       "    <tr>\n",
       "      <th>16827</th>\n",
       "      <td>European Union</td>\n",
       "      <td>2021-09-30</td>\n",
       "      <td>Oxford/AstraZeneca</td>\n",
       "      <td>67137118</td>\n",
       "    </tr>\n",
       "    <tr>\n",
       "      <th>16828</th>\n",
       "      <td>European Union</td>\n",
       "      <td>2021-09-30</td>\n",
       "      <td>Pfizer/BioNTech</td>\n",
       "      <td>398971019</td>\n",
       "    </tr>\n",
       "    <tr>\n",
       "      <th>16829</th>\n",
       "      <td>European Union</td>\n",
       "      <td>2021-09-30</td>\n",
       "      <td>Sinopharm/Beijing</td>\n",
       "      <td>2106111</td>\n",
       "    </tr>\n",
       "    <tr>\n",
       "      <th>16830</th>\n",
       "      <td>European Union</td>\n",
       "      <td>2021-09-30</td>\n",
       "      <td>Sputnik V</td>\n",
       "      <td>1842585</td>\n",
       "    </tr>\n",
       "  </tbody>\n",
       "</table>\n",
       "<p>16831 rows × 4 columns</p>\n",
       "</div>"
      ],
      "text/plain": [
       "             location        date             vaccine  total_vaccinations\n",
       "0             Austria  2021-01-08     Johnson&Johnson                   0\n",
       "1             Austria  2021-01-08             Moderna                   0\n",
       "2             Austria  2021-01-08  Oxford/AstraZeneca                   0\n",
       "3             Austria  2021-01-08     Pfizer/BioNTech               31099\n",
       "4             Austria  2021-01-15     Johnson&Johnson                   0\n",
       "...               ...         ...                 ...                 ...\n",
       "16826  European Union  2021-09-30             Moderna            56980030\n",
       "16827  European Union  2021-09-30  Oxford/AstraZeneca            67137118\n",
       "16828  European Union  2021-09-30     Pfizer/BioNTech           398971019\n",
       "16829  European Union  2021-09-30   Sinopharm/Beijing             2106111\n",
       "16830  European Union  2021-09-30           Sputnik V             1842585\n",
       "\n",
       "[16831 rows x 4 columns]"
      ]
     },
     "execution_count": 13,
     "metadata": {},
     "output_type": "execute_result"
    }
   ],
   "source": [
    "raw_data2"
   ]
  },
  {
   "cell_type": "code",
   "execution_count": 14,
   "metadata": {},
   "outputs": [
    {
     "name": "stdout",
     "output_type": "stream",
     "text": [
      "<class 'pandas.core.frame.DataFrame'>\n",
      "RangeIndex: 16831 entries, 0 to 16830\n",
      "Data columns (total 4 columns):\n",
      " #   Column              Non-Null Count  Dtype \n",
      "---  ------              --------------  ----- \n",
      " 0   location            16831 non-null  object\n",
      " 1   date                16831 non-null  object\n",
      " 2   vaccine             16831 non-null  object\n",
      " 3   total_vaccinations  16831 non-null  int64 \n",
      "dtypes: int64(1), object(3)\n",
      "memory usage: 526.1+ KB\n"
     ]
    }
   ],
   "source": [
    "raw_data2.info()"
   ]
  },
  {
   "cell_type": "code",
   "execution_count": 15,
   "metadata": {
    "scrolled": true
   },
   "outputs": [
    {
     "data": {
      "text/html": [
       "<div>\n",
       "<style scoped>\n",
       "    .dataframe tbody tr th:only-of-type {\n",
       "        vertical-align: middle;\n",
       "    }\n",
       "\n",
       "    .dataframe tbody tr th {\n",
       "        vertical-align: top;\n",
       "    }\n",
       "\n",
       "    .dataframe thead th {\n",
       "        text-align: right;\n",
       "    }\n",
       "</style>\n",
       "<table border=\"1\" class=\"dataframe\">\n",
       "  <thead>\n",
       "    <tr style=\"text-align: right;\">\n",
       "      <th></th>\n",
       "      <th>total_vaccinations</th>\n",
       "    </tr>\n",
       "  </thead>\n",
       "  <tbody>\n",
       "    <tr>\n",
       "      <th>count</th>\n",
       "      <td>1.683100e+04</td>\n",
       "    </tr>\n",
       "    <tr>\n",
       "      <th>mean</th>\n",
       "      <td>1.082024e+07</td>\n",
       "    </tr>\n",
       "    <tr>\n",
       "      <th>std</th>\n",
       "      <td>3.686004e+07</td>\n",
       "    </tr>\n",
       "    <tr>\n",
       "      <th>min</th>\n",
       "      <td>0.000000e+00</td>\n",
       "    </tr>\n",
       "    <tr>\n",
       "      <th>25%</th>\n",
       "      <td>8.046300e+04</td>\n",
       "    </tr>\n",
       "    <tr>\n",
       "      <th>50%</th>\n",
       "      <td>7.536510e+05</td>\n",
       "    </tr>\n",
       "    <tr>\n",
       "      <th>75%</th>\n",
       "      <td>4.701424e+06</td>\n",
       "    </tr>\n",
       "    <tr>\n",
       "      <th>max</th>\n",
       "      <td>3.989710e+08</td>\n",
       "    </tr>\n",
       "  </tbody>\n",
       "</table>\n",
       "</div>"
      ],
      "text/plain": [
       "       total_vaccinations\n",
       "count        1.683100e+04\n",
       "mean         1.082024e+07\n",
       "std          3.686004e+07\n",
       "min          0.000000e+00\n",
       "25%          8.046300e+04\n",
       "50%          7.536510e+05\n",
       "75%          4.701424e+06\n",
       "max          3.989710e+08"
      ]
     },
     "execution_count": 15,
     "metadata": {},
     "output_type": "execute_result"
    }
   ],
   "source": [
    "raw_data2.describe()"
   ]
  },
  {
   "cell_type": "code",
   "execution_count": 16,
   "metadata": {
    "scrolled": true
   },
   "outputs": [
    {
     "data": {
      "text/html": [
       "<div>\n",
       "<style scoped>\n",
       "    .dataframe tbody tr th:only-of-type {\n",
       "        vertical-align: middle;\n",
       "    }\n",
       "\n",
       "    .dataframe tbody tr th {\n",
       "        vertical-align: top;\n",
       "    }\n",
       "\n",
       "    .dataframe thead th {\n",
       "        text-align: right;\n",
       "    }\n",
       "</style>\n",
       "<table border=\"1\" class=\"dataframe\">\n",
       "  <thead>\n",
       "    <tr style=\"text-align: right;\">\n",
       "      <th></th>\n",
       "      <th>country</th>\n",
       "      <th>iso_code</th>\n",
       "      <th>date</th>\n",
       "      <th>total_vaccinations</th>\n",
       "      <th>people_vaccinated</th>\n",
       "      <th>people_fully_vaccinated</th>\n",
       "      <th>daily_vaccinations_raw</th>\n",
       "      <th>daily_vaccinations</th>\n",
       "      <th>total_vaccinations_per_hundred</th>\n",
       "      <th>people_vaccinated_per_hundred</th>\n",
       "      <th>people_fully_vaccinated_per_hundred</th>\n",
       "      <th>daily_vaccinations_per_million</th>\n",
       "      <th>vaccines</th>\n",
       "    </tr>\n",
       "  </thead>\n",
       "  <tbody>\n",
       "    <tr>\n",
       "      <th>0</th>\n",
       "      <td>Afghanistan</td>\n",
       "      <td>AFG</td>\n",
       "      <td>2021-02-22</td>\n",
       "      <td>0.0</td>\n",
       "      <td>0.0</td>\n",
       "      <td>0.0</td>\n",
       "      <td>0.0</td>\n",
       "      <td>0.0</td>\n",
       "      <td>0.0</td>\n",
       "      <td>0.0</td>\n",
       "      <td>NaN</td>\n",
       "      <td>NaN</td>\n",
       "      <td>Johnson&amp;Johnson, Oxford/AstraZeneca, Pfizer/Bi...</td>\n",
       "    </tr>\n",
       "    <tr>\n",
       "      <th>1</th>\n",
       "      <td>Afghanistan</td>\n",
       "      <td>AFG</td>\n",
       "      <td>2021-02-23</td>\n",
       "      <td>0.0</td>\n",
       "      <td>0.0</td>\n",
       "      <td>0.0</td>\n",
       "      <td>0.0</td>\n",
       "      <td>1367.0</td>\n",
       "      <td>NaN</td>\n",
       "      <td>NaN</td>\n",
       "      <td>NaN</td>\n",
       "      <td>34.0</td>\n",
       "      <td>Johnson&amp;Johnson, Oxford/AstraZeneca, Pfizer/Bi...</td>\n",
       "    </tr>\n",
       "    <tr>\n",
       "      <th>2</th>\n",
       "      <td>Afghanistan</td>\n",
       "      <td>AFG</td>\n",
       "      <td>2021-02-24</td>\n",
       "      <td>0.0</td>\n",
       "      <td>0.0</td>\n",
       "      <td>0.0</td>\n",
       "      <td>0.0</td>\n",
       "      <td>1367.0</td>\n",
       "      <td>NaN</td>\n",
       "      <td>NaN</td>\n",
       "      <td>NaN</td>\n",
       "      <td>34.0</td>\n",
       "      <td>Johnson&amp;Johnson, Oxford/AstraZeneca, Pfizer/Bi...</td>\n",
       "    </tr>\n",
       "    <tr>\n",
       "      <th>3</th>\n",
       "      <td>Afghanistan</td>\n",
       "      <td>AFG</td>\n",
       "      <td>2021-02-25</td>\n",
       "      <td>0.0</td>\n",
       "      <td>0.0</td>\n",
       "      <td>0.0</td>\n",
       "      <td>0.0</td>\n",
       "      <td>1367.0</td>\n",
       "      <td>NaN</td>\n",
       "      <td>NaN</td>\n",
       "      <td>NaN</td>\n",
       "      <td>34.0</td>\n",
       "      <td>Johnson&amp;Johnson, Oxford/AstraZeneca, Pfizer/Bi...</td>\n",
       "    </tr>\n",
       "    <tr>\n",
       "      <th>4</th>\n",
       "      <td>Afghanistan</td>\n",
       "      <td>AFG</td>\n",
       "      <td>2021-02-26</td>\n",
       "      <td>0.0</td>\n",
       "      <td>0.0</td>\n",
       "      <td>0.0</td>\n",
       "      <td>0.0</td>\n",
       "      <td>1367.0</td>\n",
       "      <td>NaN</td>\n",
       "      <td>NaN</td>\n",
       "      <td>NaN</td>\n",
       "      <td>34.0</td>\n",
       "      <td>Johnson&amp;Johnson, Oxford/AstraZeneca, Pfizer/Bi...</td>\n",
       "    </tr>\n",
       "  </tbody>\n",
       "</table>\n",
       "</div>"
      ],
      "text/plain": [
       "       country iso_code        date  total_vaccinations  people_vaccinated  \\\n",
       "0  Afghanistan      AFG  2021-02-22                 0.0                0.0   \n",
       "1  Afghanistan      AFG  2021-02-23                 0.0                0.0   \n",
       "2  Afghanistan      AFG  2021-02-24                 0.0                0.0   \n",
       "3  Afghanistan      AFG  2021-02-25                 0.0                0.0   \n",
       "4  Afghanistan      AFG  2021-02-26                 0.0                0.0   \n",
       "\n",
       "   people_fully_vaccinated  daily_vaccinations_raw  daily_vaccinations  \\\n",
       "0                      0.0                     0.0                 0.0   \n",
       "1                      0.0                     0.0              1367.0   \n",
       "2                      0.0                     0.0              1367.0   \n",
       "3                      0.0                     0.0              1367.0   \n",
       "4                      0.0                     0.0              1367.0   \n",
       "\n",
       "   total_vaccinations_per_hundred  people_vaccinated_per_hundred  \\\n",
       "0                             0.0                            0.0   \n",
       "1                             NaN                            NaN   \n",
       "2                             NaN                            NaN   \n",
       "3                             NaN                            NaN   \n",
       "4                             NaN                            NaN   \n",
       "\n",
       "   people_fully_vaccinated_per_hundred  daily_vaccinations_per_million  \\\n",
       "0                                  NaN                             NaN   \n",
       "1                                  NaN                            34.0   \n",
       "2                                  NaN                            34.0   \n",
       "3                                  NaN                            34.0   \n",
       "4                                  NaN                            34.0   \n",
       "\n",
       "                                            vaccines  \n",
       "0  Johnson&Johnson, Oxford/AstraZeneca, Pfizer/Bi...  \n",
       "1  Johnson&Johnson, Oxford/AstraZeneca, Pfizer/Bi...  \n",
       "2  Johnson&Johnson, Oxford/AstraZeneca, Pfizer/Bi...  \n",
       "3  Johnson&Johnson, Oxford/AstraZeneca, Pfizer/Bi...  \n",
       "4  Johnson&Johnson, Oxford/AstraZeneca, Pfizer/Bi...  "
      ]
     },
     "execution_count": 16,
     "metadata": {},
     "output_type": "execute_result"
    }
   ],
   "source": [
    "raw_data.drop(['source_name','source_website'],inplace=True,axis=1)\n",
    "raw_data['total_vaccinations'].fillna(0, inplace=True)\n",
    "raw_data['people_vaccinated'].fillna(0, inplace=True)\n",
    "raw_data['people_fully_vaccinated'].fillna(0, inplace=True)\n",
    "raw_data['daily_vaccinations_raw'].fillna(0, inplace=True)\n",
    "raw_data['daily_vaccinations'].fillna(0, inplace=True)\n",
    "raw_data.head()"
   ]
  },
  {
   "cell_type": "code",
   "execution_count": 17,
   "metadata": {},
   "outputs": [],
   "source": [
    "total_vaccines_df=raw_data.groupby('country')[['daily_vaccinations']].sum()\n",
    "total_vaccines_df.rename(columns = {'daily_vaccinations':'Total vaccinated'}, inplace = True)"
   ]
  },
  {
   "cell_type": "markdown",
   "metadata": {},
   "source": [
    "## Exploratory Analysis and Visualization"
   ]
  },
  {
   "cell_type": "markdown",
   "metadata": {},
   "source": [
    "> - Compute the mean, sum, range and other interesting statistics for numeric columns\n",
    "> - Explore distributions of numeric columns using histograms etc.\n",
    "> - Explore relationship between columns using scatter plots, bar charts etc."
   ]
  },
  {
   "cell_type": "markdown",
   "metadata": {},
   "source": [
    "Let's begin by importing`matplotlib.pyplot` and `seaborn`."
   ]
  },
  {
   "cell_type": "code",
   "execution_count": 18,
   "metadata": {},
   "outputs": [
    {
     "name": "stderr",
     "output_type": "stream",
     "text": [
      "C:\\Users\\91981\\Anaconda3\\lib\\site-packages\\statsmodels\\tools\\_testing.py:19: FutureWarning: pandas.util.testing is deprecated. Use the functions in the public API at pandas.testing instead.\n",
      "  import pandas.util.testing as tm\n"
     ]
    }
   ],
   "source": [
    "import seaborn as sns\n",
    "import matplotlib\n",
    "import matplotlib.pyplot as plt\n",
    "%matplotlib inline\n",
    "\n",
    "sns.set_style('darkgrid')\n",
    "matplotlib.rcParams['font.size'] = 14\n",
    "matplotlib.rcParams['figure.figsize'] = (9, 5)\n",
    "matplotlib.rcParams['figure.facecolor'] = '#00000000'"
   ]
  },
  {
   "cell_type": "code",
   "execution_count": 19,
   "metadata": {},
   "outputs": [
    {
     "data": {
      "text/plain": [
       "0       2021-02-22\n",
       "1       2021-02-23\n",
       "2       2021-02-24\n",
       "3       2021-02-25\n",
       "4       2021-02-26\n",
       "           ...    \n",
       "48108   2021-09-26\n",
       "48109   2021-09-27\n",
       "48110   2021-09-28\n",
       "48111   2021-09-29\n",
       "48112   2021-09-30\n",
       "Name: date, Length: 48113, dtype: datetime64[ns]"
      ]
     },
     "execution_count": 19,
     "metadata": {},
     "output_type": "execute_result"
    }
   ],
   "source": [
    "raw_data['date']=pd.to_datetime(raw_data.date)\n",
    "raw_data.date"
   ]
  },
  {
   "cell_type": "markdown",
   "metadata": {},
   "source": [
    "Daily Covid Vaccination Graph"
   ]
  },
  {
   "cell_type": "code",
   "execution_count": 20,
   "metadata": {},
   "outputs": [
    {
     "data": {
      "text/plain": [
       "<matplotlib.axes._subplots.AxesSubplot at 0x2eefe341b88>"
      ]
     },
     "execution_count": 20,
     "metadata": {},
     "output_type": "execute_result"
    },
    {
     "data": {
      "image/png": "[encoded data removed]",
      "text/plain": [
       "<Figure size 432x288 with 1 Axes>"
      ]
     },
     "metadata": {
      "needs_background": "light"
     },
     "output_type": "display_data"
    }
   ],
   "source": [
    "daily_vaccinations_df=raw_data.groupby('date')[['daily_vaccinations']].sum()\n",
    "daily_vaccinations_df.plot(ylabel='Daily Vaccinations')"
   ]
  },
  {
   "cell_type": "markdown",
   "metadata": {},
   "source": [
    "Top 10 countries with highest number of vaccinated population"
   ]
  },
  {
   "cell_type": "code",
   "execution_count": 21,
   "metadata": {},
   "outputs": [
    {
     "data": {
      "text/plain": [
       "<matplotlib.axes._subplots.AxesSubplot at 0x2eefe4741c8>"
      ]
     },
     "execution_count": 21,
     "metadata": {},
     "output_type": "execute_result"
    },
    {
     "data": {
      "image/png": "[encoded data removed]",
      "text/plain": [
       "<Figure size 432x288 with 1 Axes>"
      ]
     },
     "metadata": {
      "needs_background": "light"
     },
     "output_type": "display_data"
    }
   ],
   "source": [
    "total_vaccines_df.sort_values('Total vaccinated',ascending=False).head(10).plot(kind='bar',legend=False,ylabel='Total Vaccinated',title=\"\")"
   ]
  },
  {
   "cell_type": "code",
   "execution_count": 22,
   "metadata": {},
   "outputs": [
    {
     "data": {
      "text/html": [
       "<div>\n",
       "<style scoped>\n",
       "    .dataframe tbody tr th:only-of-type {\n",
       "        vertical-align: middle;\n",
       "    }\n",
       "\n",
       "    .dataframe tbody tr th {\n",
       "        vertical-align: top;\n",
       "    }\n",
       "\n",
       "    .dataframe thead th {\n",
       "        text-align: right;\n",
       "    }\n",
       "</style>\n",
       "<table border=\"1\" class=\"dataframe\">\n",
       "  <thead>\n",
       "    <tr style=\"text-align: right;\">\n",
       "      <th></th>\n",
       "      <th>people_vaccinated</th>\n",
       "      <th>people_fully_vaccinated</th>\n",
       "      <th>people_vaccinated_per_hundred</th>\n",
       "      <th>people_fully_vaccinated_per_hundred</th>\n",
       "    </tr>\n",
       "    <tr>\n",
       "      <th>country</th>\n",
       "      <th></th>\n",
       "      <th></th>\n",
       "      <th></th>\n",
       "      <th></th>\n",
       "    </tr>\n",
       "  </thead>\n",
       "  <tbody>\n",
       "    <tr>\n",
       "      <th>Portugal</th>\n",
       "      <td>8930596.0</td>\n",
       "      <td>8663808.0</td>\n",
       "      <td>87.83</td>\n",
       "      <td>85.21</td>\n",
       "    </tr>\n",
       "    <tr>\n",
       "      <th>United Arab Emirates</th>\n",
       "      <td>9296797.0</td>\n",
       "      <td>8248434.0</td>\n",
       "      <td>93.05</td>\n",
       "      <td>82.56</td>\n",
       "    </tr>\n",
       "    <tr>\n",
       "      <th>Malta</th>\n",
       "      <td>420499.0</td>\n",
       "      <td>420429.0</td>\n",
       "      <td>81.72</td>\n",
       "      <td>81.71</td>\n",
       "    </tr>\n",
       "    <tr>\n",
       "      <th>Iceland</th>\n",
       "      <td>281734.0</td>\n",
       "      <td>276522.0</td>\n",
       "      <td>82.05</td>\n",
       "      <td>80.53</td>\n",
       "    </tr>\n",
       "    <tr>\n",
       "      <th>Spain</th>\n",
       "      <td>37680085.0</td>\n",
       "      <td>36613575.0</td>\n",
       "      <td>80.61</td>\n",
       "      <td>78.33</td>\n",
       "    </tr>\n",
       "    <tr>\n",
       "      <th>Cayman Islands</th>\n",
       "      <td>55129.0</td>\n",
       "      <td>51481.0</td>\n",
       "      <td>82.90</td>\n",
       "      <td>77.42</td>\n",
       "    </tr>\n",
       "    <tr>\n",
       "      <th>Singapore</th>\n",
       "      <td>4693813.0</td>\n",
       "      <td>4528149.0</td>\n",
       "      <td>79.60</td>\n",
       "      <td>76.79</td>\n",
       "    </tr>\n",
       "    <tr>\n",
       "      <th>Qatar</th>\n",
       "      <td>2360308.0</td>\n",
       "      <td>2218292.0</td>\n",
       "      <td>80.54</td>\n",
       "      <td>75.70</td>\n",
       "    </tr>\n",
       "    <tr>\n",
       "      <th>Denmark</th>\n",
       "      <td>4454484.0</td>\n",
       "      <td>4369407.0</td>\n",
       "      <td>76.63</td>\n",
       "      <td>75.16</td>\n",
       "    </tr>\n",
       "    <tr>\n",
       "      <th>Isle of Man</th>\n",
       "      <td>65461.0</td>\n",
       "      <td>63858.0</td>\n",
       "      <td>76.64</td>\n",
       "      <td>74.77</td>\n",
       "    </tr>\n",
       "  </tbody>\n",
       "</table>\n",
       "</div>"
      ],
      "text/plain": [
       "                      people_vaccinated  people_fully_vaccinated  \\\n",
       "country                                                            \n",
       "Portugal                      8930596.0                8663808.0   \n",
       "United Arab Emirates          9296797.0                8248434.0   \n",
       "Malta                          420499.0                 420429.0   \n",
       "Iceland                        281734.0                 276522.0   \n",
       "Spain                        37680085.0               36613575.0   \n",
       "Cayman Islands                  55129.0                  51481.0   \n",
       "Singapore                     4693813.0                4528149.0   \n",
       "Qatar                         2360308.0                2218292.0   \n",
       "Denmark                       4454484.0                4369407.0   \n",
       "Isle of Man                     65461.0                  63858.0   \n",
       "\n",
       "                      people_vaccinated_per_hundred  \\\n",
       "country                                               \n",
       "Portugal                                      87.83   \n",
       "United Arab Emirates                          93.05   \n",
       "Malta                                         81.72   \n",
       "Iceland                                       82.05   \n",
       "Spain                                         80.61   \n",
       "Cayman Islands                                82.90   \n",
       "Singapore                                     79.60   \n",
       "Qatar                                         80.54   \n",
       "Denmark                                       76.63   \n",
       "Isle of Man                                   76.64   \n",
       "\n",
       "                      people_fully_vaccinated_per_hundred  \n",
       "country                                                    \n",
       "Portugal                                            85.21  \n",
       "United Arab Emirates                                82.56  \n",
       "Malta                                               81.71  \n",
       "Iceland                                             80.53  \n",
       "Spain                                               78.33  \n",
       "Cayman Islands                                      77.42  \n",
       "Singapore                                           76.79  \n",
       "Qatar                                               75.70  \n",
       "Denmark                                             75.16  \n",
       "Isle of Man                                         74.77  "
      ]
     },
     "execution_count": 22,
     "metadata": {},
     "output_type": "execute_result"
    }
   ],
   "source": [
    "fully_vaccinated_df=raw_data.groupby('country')[['people_vaccinated','people_fully_vaccinated','people_vaccinated_per_hundred','people_fully_vaccinated_per_hundred']].max()\n",
    "fully_vaccinated_df.drop(['Gibraltar','Pitcairn'],inplace=True)\n",
    "top10_fv_df=fully_vaccinated_df.sort_values('people_fully_vaccinated_per_hundred',ascending=False).head(10)\n",
    "top10_fv_df"
   ]
  },
  {
   "cell_type": "markdown",
   "metadata": {},
   "source": [
    "Top 10 countries with highest fully vaccinated per hundred population"
   ]
  },
  {
   "cell_type": "code",
   "execution_count": 23,
   "metadata": {},
   "outputs": [
    {
     "data": {
      "text/plain": [
       "<matplotlib.axes._subplots.AxesSubplot at 0x2eefe532e88>"
      ]
     },
     "execution_count": 23,
     "metadata": {},
     "output_type": "execute_result"
    },
    {
     "data": {
      "image/png": "[encoded data removed]",
      "text/plain": [
       "<Figure size 432x288 with 1 Axes>"
      ]
     },
     "metadata": {
      "needs_background": "light"
     },
     "output_type": "display_data"
    }
   ],
   "source": [
    "sns.barplot(x='people_fully_vaccinated_per_hundred',y=top10_fv_df.index,data=top10_fv_df)"
   ]
  },
  {
   "cell_type": "code",
   "execution_count": 24,
   "metadata": {
    "scrolled": false
   },
   "outputs": [
    {
     "data": {
      "text/html": [
       "<div>\n",
       "<style scoped>\n",
       "    .dataframe tbody tr th:only-of-type {\n",
       "        vertical-align: middle;\n",
       "    }\n",
       "\n",
       "    .dataframe tbody tr th {\n",
       "        vertical-align: top;\n",
       "    }\n",
       "\n",
       "    .dataframe thead th {\n",
       "        text-align: right;\n",
       "    }\n",
       "</style>\n",
       "<table border=\"1\" class=\"dataframe\">\n",
       "  <thead>\n",
       "    <tr style=\"text-align: right;\">\n",
       "      <th></th>\n",
       "      <th>people_vaccinated</th>\n",
       "      <th>people_fully_vaccinated</th>\n",
       "      <th>people_vaccinated_per_hundred</th>\n",
       "      <th>people_fully_vaccinated_per_hundred</th>\n",
       "      <th>Partially Vaccinated</th>\n",
       "    </tr>\n",
       "    <tr>\n",
       "      <th>country</th>\n",
       "      <th></th>\n",
       "      <th></th>\n",
       "      <th></th>\n",
       "      <th></th>\n",
       "      <th></th>\n",
       "    </tr>\n",
       "  </thead>\n",
       "  <tbody>\n",
       "    <tr>\n",
       "      <th>Afghanistan</th>\n",
       "      <td>773002.0</td>\n",
       "      <td>430744.0</td>\n",
       "      <td>1.94</td>\n",
       "      <td>1.08</td>\n",
       "      <td>342258.0</td>\n",
       "    </tr>\n",
       "    <tr>\n",
       "      <th>Albania</th>\n",
       "      <td>944011.0</td>\n",
       "      <td>788538.0</td>\n",
       "      <td>32.86</td>\n",
       "      <td>27.45</td>\n",
       "      <td>155473.0</td>\n",
       "    </tr>\n",
       "    <tr>\n",
       "      <th>Algeria</th>\n",
       "      <td>6017036.0</td>\n",
       "      <td>4032942.0</td>\n",
       "      <td>13.49</td>\n",
       "      <td>9.04</td>\n",
       "      <td>1984094.0</td>\n",
       "    </tr>\n",
       "    <tr>\n",
       "      <th>Andorra</th>\n",
       "      <td>52910.0</td>\n",
       "      <td>43008.0</td>\n",
       "      <td>68.40</td>\n",
       "      <td>55.60</td>\n",
       "      <td>9902.0</td>\n",
       "    </tr>\n",
       "    <tr>\n",
       "      <th>Angola</th>\n",
       "      <td>2127405.0</td>\n",
       "      <td>1006732.0</td>\n",
       "      <td>6.27</td>\n",
       "      <td>2.97</td>\n",
       "      <td>1120673.0</td>\n",
       "    </tr>\n",
       "    <tr>\n",
       "      <th>...</th>\n",
       "      <td>...</td>\n",
       "      <td>...</td>\n",
       "      <td>...</td>\n",
       "      <td>...</td>\n",
       "      <td>...</td>\n",
       "    </tr>\n",
       "    <tr>\n",
       "      <th>Wales</th>\n",
       "      <td>2376313.0</td>\n",
       "      <td>2222830.0</td>\n",
       "      <td>74.96</td>\n",
       "      <td>70.12</td>\n",
       "      <td>153483.0</td>\n",
       "    </tr>\n",
       "    <tr>\n",
       "      <th>Wallis and Futuna</th>\n",
       "      <td>5366.0</td>\n",
       "      <td>5072.0</td>\n",
       "      <td>48.37</td>\n",
       "      <td>45.72</td>\n",
       "      <td>294.0</td>\n",
       "    </tr>\n",
       "    <tr>\n",
       "      <th>Yemen</th>\n",
       "      <td>308025.0</td>\n",
       "      <td>48148.0</td>\n",
       "      <td>1.01</td>\n",
       "      <td>0.16</td>\n",
       "      <td>259877.0</td>\n",
       "    </tr>\n",
       "    <tr>\n",
       "      <th>Zambia</th>\n",
       "      <td>311049.0</td>\n",
       "      <td>400688.0</td>\n",
       "      <td>1.64</td>\n",
       "      <td>2.12</td>\n",
       "      <td>-89639.0</td>\n",
       "    </tr>\n",
       "    <tr>\n",
       "      <th>Zimbabwe</th>\n",
       "      <td>3083764.0</td>\n",
       "      <td>2272056.0</td>\n",
       "      <td>20.43</td>\n",
       "      <td>15.05</td>\n",
       "      <td>811708.0</td>\n",
       "    </tr>\n",
       "  </tbody>\n",
       "</table>\n",
       "<p>220 rows × 5 columns</p>\n",
       "</div>"
      ],
      "text/plain": [
       "                   people_vaccinated  people_fully_vaccinated  \\\n",
       "country                                                         \n",
       "Afghanistan                 773002.0                 430744.0   \n",
       "Albania                     944011.0                 788538.0   \n",
       "Algeria                    6017036.0                4032942.0   \n",
       "Andorra                      52910.0                  43008.0   \n",
       "Angola                     2127405.0                1006732.0   \n",
       "...                              ...                      ...   \n",
       "Wales                      2376313.0                2222830.0   \n",
       "Wallis and Futuna             5366.0                   5072.0   \n",
       "Yemen                       308025.0                  48148.0   \n",
       "Zambia                      311049.0                 400688.0   \n",
       "Zimbabwe                   3083764.0                2272056.0   \n",
       "\n",
       "                   people_vaccinated_per_hundred  \\\n",
       "country                                            \n",
       "Afghanistan                                 1.94   \n",
       "Albania                                    32.86   \n",
       "Algeria                                    13.49   \n",
       "Andorra                                    68.40   \n",
       "Angola                                      6.27   \n",
       "...                                          ...   \n",
       "Wales                                      74.96   \n",
       "Wallis and Futuna                          48.37   \n",
       "Yemen                                       1.01   \n",
       "Zambia                                      1.64   \n",
       "Zimbabwe                                   20.43   \n",
       "\n",
       "                   people_fully_vaccinated_per_hundred  Partially Vaccinated  \n",
       "country                                                                       \n",
       "Afghanistan                                       1.08              342258.0  \n",
       "Albania                                          27.45              155473.0  \n",
       "Algeria                                           9.04             1984094.0  \n",
       "Andorra                                          55.60                9902.0  \n",
       "Angola                                            2.97             1120673.0  \n",
       "...                                                ...                   ...  \n",
       "Wales                                            70.12              153483.0  \n",
       "Wallis and Futuna                                45.72                 294.0  \n",
       "Yemen                                             0.16              259877.0  \n",
       "Zambia                                            2.12              -89639.0  \n",
       "Zimbabwe                                         15.05              811708.0  \n",
       "\n",
       "[220 rows x 5 columns]"
      ]
     },
     "execution_count": 24,
     "metadata": {},
     "output_type": "execute_result"
    }
   ],
   "source": [
    "fully_vaccinated_df[\"Partially Vaccinated\"]=fully_vaccinated_df.people_vaccinated-fully_vaccinated_df.people_fully_vaccinated\n",
    "fully_vaccinated_df"
   ]
  },
  {
   "cell_type": "markdown",
   "metadata": {},
   "source": [
    "Countries with least number of partially vaccinated population"
   ]
  },
  {
   "cell_type": "code",
   "execution_count": 25,
   "metadata": {},
   "outputs": [
    {
     "data": {
      "text/plain": [
       "<matplotlib.axes._subplots.AxesSubplot at 0x2eefe6195c8>"
      ]
     },
     "execution_count": 25,
     "metadata": {},
     "output_type": "execute_result"
    },
    {
     "data": {
      "image/png": "[encoded data removed]",
      "text/plain": [
       "<Figure size 432x288 with 1 Axes>"
      ]
     },
     "metadata": {
      "needs_background": "light"
     },
     "output_type": "display_data"
    }
   ],
   "source": [
    "fully_vaccinated_df.drop(['Moldova','Zambia','Bulgaria','Mauritania'],inplace=True)\n",
    "fully_vaccinated_df.sort_values(\"Partially Vaccinated\").head(5).plot(y=\"Partially Vaccinated\",style='o--r',legend=False,ylabel=\"Partially Vaccinated\",title=\"Countries with least number of partially vaccinated people\")"
   ]
  },
  {
   "cell_type": "markdown",
   "metadata": {},
   "source": [
    "Graph depicting variation in data of fully vaccinated and partially vaccinated population of 10 random countries"
   ]
  },
  {
   "cell_type": "code",
   "execution_count": 26,
   "metadata": {},
   "outputs": [
    {
     "name": "stderr",
     "output_type": "stream",
     "text": [
      "C:\\Users\\91981\\Anaconda3\\lib\\site-packages\\matplotlib\\cbook\\__init__.py:1402: FutureWarning: Support for multi-dimensional indexing (e.g. `obj[:, None]`) is deprecated and will be removed in a future version.  Convert to a numpy array before indexing instead.\n",
      "  x[:, None]\n",
      "C:\\Users\\91981\\Anaconda3\\lib\\site-packages\\matplotlib\\axes\\_base.py:278: FutureWarning: Support for multi-dimensional indexing (e.g. `obj[:, None]`) is deprecated and will be removed in a future version.  Convert to a numpy array before indexing instead.\n",
      "  y = y[:, np.newaxis]\n"
     ]
    },
    {
     "data": {
      "text/plain": [
       "([<matplotlib.axis.XTick at 0x2eefe651d48>,\n",
       "  <matplotlib.axis.XTick at 0x2eefe68ed48>,\n",
       "  <matplotlib.axis.XTick at 0x2eefe704448>,\n",
       "  <matplotlib.axis.XTick at 0x2eefe7109c8>,\n",
       "  <matplotlib.axis.XTick at 0x2eefe714388>,\n",
       "  <matplotlib.axis.XTick at 0x2eefe714b88>,\n",
       "  <matplotlib.axis.XTick at 0x2eefe7183c8>,\n",
       "  <matplotlib.axis.XTick at 0x2eefe718d08>,\n",
       "  <matplotlib.axis.XTick at 0x2eefe71b888>,\n",
       "  <matplotlib.axis.XTick at 0x2eefe720408>],\n",
       " <a list of 10 Text xticklabel objects>)"
      ]
     },
     "execution_count": 26,
     "metadata": {},
     "output_type": "execute_result"
    },
    {
     "data": {
      "image/png": "[encoded data removed]",
      "text/plain": [
       "<Figure size 432x288 with 1 Axes>"
      ]
     },
     "metadata": {},
     "output_type": "display_data"
    }
   ],
   "source": [
    "sns.set_style(\"whitegrid\")\n",
    "sample_df=fully_vaccinated_df.sample(10)\n",
    "plt.plot(np.arange(0,10), sample_df.people_fully_vaccinated,'g--o',label=\"Fully Vaccinated\")\n",
    "plt.plot(np.arange(0,10), sample_df['Partially Vaccinated'],'s-r',label=\"Partially Vaccinated\")\n",
    "plt.legend()\n",
    "plt.xticks(np.arange(0,10),list(sample_df.index),rotation=90)\n",
    "#plt.plot(x=np.arange(0,10),y=\"sample_df.people_fully_vaccinated\")\n",
    "#fully_vaccinated_df.sample(10).plot(y=\"Partially vaccinated\")"
   ]
  },
  {
   "cell_type": "markdown",
   "metadata": {},
   "source": [
    "## Asking and Answering Questions"
   ]
  },
  {
   "cell_type": "markdown",
   "metadata": {},
   "source": [
    "#### Name the various covid vaccinations available around the world."
   ]
  },
  {
   "cell_type": "code",
   "execution_count": 27,
   "metadata": {},
   "outputs": [
    {
     "data": {
      "text/plain": [
       "['Johnson&Johnson',\n",
       " 'Moderna',\n",
       " 'Oxford/AstraZeneca',\n",
       " 'Pfizer/BioNTech',\n",
       " 'Sinovac',\n",
       " 'CanSino',\n",
       " 'Sputnik V',\n",
       " 'Sinopharm/Beijing']"
      ]
     },
     "execution_count": 27,
     "metadata": {},
     "output_type": "execute_result"
    }
   ],
   "source": [
    "list(raw_data2.vaccine.unique())"
   ]
  },
  {
   "cell_type": "markdown",
   "metadata": {},
   "source": [
    "#### Which country has the maximum partially vaccinated (1 out of 2 doses taken) population. "
   ]
  },
  {
   "cell_type": "code",
   "execution_count": 28,
   "metadata": {},
   "outputs": [
    {
     "data": {
      "text/html": [
       "<div>\n",
       "<style scoped>\n",
       "    .dataframe tbody tr th:only-of-type {\n",
       "        vertical-align: middle;\n",
       "    }\n",
       "\n",
       "    .dataframe tbody tr th {\n",
       "        vertical-align: top;\n",
       "    }\n",
       "\n",
       "    .dataframe thead th {\n",
       "        text-align: right;\n",
       "    }\n",
       "</style>\n",
       "<table border=\"1\" class=\"dataframe\">\n",
       "  <thead>\n",
       "    <tr style=\"text-align: right;\">\n",
       "      <th></th>\n",
       "      <th>people_vaccinated</th>\n",
       "      <th>people_fully_vaccinated</th>\n",
       "      <th>people_vaccinated_per_hundred</th>\n",
       "      <th>people_fully_vaccinated_per_hundred</th>\n",
       "      <th>Partially Vaccinated</th>\n",
       "    </tr>\n",
       "    <tr>\n",
       "      <th>country</th>\n",
       "      <th></th>\n",
       "      <th></th>\n",
       "      <th></th>\n",
       "      <th></th>\n",
       "      <th></th>\n",
       "    </tr>\n",
       "  </thead>\n",
       "  <tbody>\n",
       "    <tr>\n",
       "      <th>India</th>\n",
       "      <td>648949043.0</td>\n",
       "      <td>237476249.0</td>\n",
       "      <td>46.57</td>\n",
       "      <td>17.04</td>\n",
       "      <td>411472794.0</td>\n",
       "    </tr>\n",
       "  </tbody>\n",
       "</table>\n",
       "</div>"
      ],
      "text/plain": [
       "         people_vaccinated  people_fully_vaccinated  \\\n",
       "country                                               \n",
       "India          648949043.0              237476249.0   \n",
       "\n",
       "         people_vaccinated_per_hundred  people_fully_vaccinated_per_hundred  \\\n",
       "country                                                                       \n",
       "India                            46.57                                17.04   \n",
       "\n",
       "         Partially Vaccinated  \n",
       "country                        \n",
       "India             411472794.0  "
      ]
     },
     "execution_count": 28,
     "metadata": {},
     "output_type": "execute_result"
    }
   ],
   "source": [
    "fully_vaccinated_df[fully_vaccinated_df['Partially Vaccinated']==fully_vaccinated_df['Partially Vaccinated'].max()]"
   ]
  },
  {
   "cell_type": "code",
   "execution_count": 29,
   "metadata": {},
   "outputs": [
    {
     "data": {
      "text/plain": [
       "<matplotlib.axes._subplots.AxesSubplot at 0x2eefe759f88>"
      ]
     },
     "execution_count": 29,
     "metadata": {},
     "output_type": "execute_result"
    },
    {
     "data": {
      "image/png": "[encoded data removed]",
      "text/plain": [
       "<Figure size 432x288 with 1 Axes>"
      ]
     },
     "metadata": {},
     "output_type": "display_data"
    }
   ],
   "source": [
    "fully_vaccinated_df.sort_values(\"Partially Vaccinated\",ascending=False).head(5).plot(y=\"Partially Vaccinated\",kind='bar',legend=False,ylabel=\"Partially Vaccinated\",title=\"Countries with maximum number of partially vaccinated people\")"
   ]
  },
  {
   "cell_type": "markdown",
   "metadata": {},
   "source": [
    "#### Which country recorded the highest number of vaccinations in a single day?"
   ]
  },
  {
   "cell_type": "code",
   "execution_count": 30,
   "metadata": {},
   "outputs": [
    {
     "data": {
      "text/html": [
       "<div>\n",
       "<style scoped>\n",
       "    .dataframe tbody tr th:only-of-type {\n",
       "        vertical-align: middle;\n",
       "    }\n",
       "\n",
       "    .dataframe tbody tr th {\n",
       "        vertical-align: top;\n",
       "    }\n",
       "\n",
       "    .dataframe thead th {\n",
       "        text-align: right;\n",
       "    }\n",
       "</style>\n",
       "<table border=\"1\" class=\"dataframe\">\n",
       "  <thead>\n",
       "    <tr style=\"text-align: right;\">\n",
       "      <th></th>\n",
       "      <th>country</th>\n",
       "      <th>date</th>\n",
       "      <th>daily_vaccinations</th>\n",
       "    </tr>\n",
       "  </thead>\n",
       "  <tbody>\n",
       "    <tr>\n",
       "      <th>8944</th>\n",
       "      <td>China</td>\n",
       "      <td>2021-06-28</td>\n",
       "      <td>22424286.0</td>\n",
       "    </tr>\n",
       "  </tbody>\n",
       "</table>\n",
       "</div>"
      ],
      "text/plain": [
       "     country       date  daily_vaccinations\n",
       "8944   China 2021-06-28          22424286.0"
      ]
     },
     "execution_count": 30,
     "metadata": {},
     "output_type": "execute_result"
    }
   ],
   "source": [
    "raw_data[raw_data.daily_vaccinations==raw_data.daily_vaccinations.max()][['country','date','daily_vaccinations']]"
   ]
  },
  {
   "cell_type": "markdown",
   "metadata": {},
   "source": [
    "#### What all vaccinations are available in United States? Show their usage using a pie chart."
   ]
  },
  {
   "cell_type": "code",
   "execution_count": 31,
   "metadata": {},
   "outputs": [
    {
     "data": {
      "text/plain": [
       "['Johnson&Johnson', 'Moderna', 'Pfizer/BioNTech']"
      ]
     },
     "execution_count": 31,
     "metadata": {},
     "output_type": "execute_result"
    }
   ],
   "source": [
    "us_df=raw_data2[raw_data2.location=='United States'].groupby(\"vaccine\")[[\"total_vaccinations\"]].max()\n",
    "list(us_df.index)"
   ]
  },
  {
   "cell_type": "code",
   "execution_count": 32,
   "metadata": {},
   "outputs": [
    {
     "data": {
      "text/plain": [
       "(-1.1327829747477054,\n",
       " 1.2055677064763415,\n",
       " -1.2175858106322597,\n",
       " 1.2273820642696351)"
      ]
     },
     "execution_count": 32,
     "metadata": {},
     "output_type": "execute_result"
    },
    {
     "data": {
      "image/png": "[encoded data removed]",
      "text/plain": [
       "<Figure size 432x288 with 1 Axes>"
      ]
     },
     "metadata": {},
     "output_type": "display_data"
    }
   ],
   "source": [
    "plt.pie(us_df.total_vaccinations,labels=list(us_df.index),explode=[0.1,0.1,0.1],shadow=True)\n",
    "plt.title(\"Different vaccine shots available in the US\")\n",
    "plt.axis('equal')"
   ]
  },
  {
   "cell_type": "markdown",
   "metadata": {},
   "source": [
    "#### Which country has the maximum fully vaccinated people? Is it also the country with the maximum fully vaccinated people per hundred?"
   ]
  },
  {
   "cell_type": "code",
   "execution_count": 33,
   "metadata": {},
   "outputs": [
    {
     "data": {
      "text/plain": [
       "['China']"
      ]
     },
     "execution_count": 33,
     "metadata": {},
     "output_type": "execute_result"
    }
   ],
   "source": [
    "list(fully_vaccinated_df[fully_vaccinated_df.people_fully_vaccinated==fully_vaccinated_df.people_fully_vaccinated.max()].index)\n"
   ]
  },
  {
   "cell_type": "code",
   "execution_count": 34,
   "metadata": {},
   "outputs": [
    {
     "data": {
      "text/plain": [
       "False"
      ]
     },
     "execution_count": 34,
     "metadata": {},
     "output_type": "execute_result"
    }
   ],
   "source": [
    "fully_vaccinated_df.people_fully_vaccinated_per_hundred.max()==fully_vaccinated_df.people_fully_vaccinated.max()"
   ]
  },
  {
   "cell_type": "markdown",
   "metadata": {},
   "source": [
    "## Inferences and Conclusion\n",
    "\n",
    "> - China has vaccinated the highest number of people. It also holds the record of vaccinating the maximum people in a single day\n",
    "> - Portugal and UAE both are vaccinating its population at a very high rate. They will soon vaccinate 100% of their population and will be the first countries to do so.\n",
    "> - There are multiple vaccines being used around the world. A lot of different covid vaccines are there and each country has their own set. For eg- Moderna, Pfizer and Johnson&Johnson are the vaccines available in the United States.\n",
    "> - India is vaccinating its population at a decent pace. But it has a large population of partially vaccinated population (i.e only taken 1 dose out of 2)\n",
    "> - The rate of daily vaccination was pretty low in the 1st half of 2021, but since June 2021, the rate has picked up. Now, on a daily bases, about 40 million people are getting vaccinated in the whole world\n"
   ]
  },
  {
   "cell_type": "markdown",
   "metadata": {},
   "source": [
    "## References and Future Work\n",
    "\n",
    "Resources:\n",
    "> - Kaggle\n",
    "> - Pandas documentation\n",
    "> - Seaborn and Matplotlib documentation\n",
    "> - Opendatasets python library\n",
    "> - Stack Overflow\n"
   ]
  },
  {
   "cell_type": "code",
   "execution_count": null,
   "metadata": {},
   "outputs": [],
   "source": []
  }
 ],
 "metadata": {
  "kernelspec": {
   "display_name": "Python 3",
   "language": "python",
   "name": "python3"
  },
  "language_info": {
   "codemirror_mode": {
    "name": "ipython",
    "version": 3
   },
   "file_extension": ".py",
   "mimetype": "text/x-python",
   "name": "python",
   "nbconvert_exporter": "python",
   "pygments_lexer": "ipython3",
   "version": "3.7.4"
  }
 },
 "nbformat": 4,
 "nbformat_minor": 4
}
